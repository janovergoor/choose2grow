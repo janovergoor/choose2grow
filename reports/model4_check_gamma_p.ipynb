{
 "cells": [
  {
   "cell_type": "code",
   "execution_count": 14,
   "metadata": {
    "collapsed": false
   },
   "outputs": [],
   "source": [
    "import sys\n",
    "sys.path.append('../src')\n",
    "import util\n",
    "import numpy as np\n",
    "from networkx import nx\n",
    "from synth_generate import make_rp_graph\n",
    "from collections import Counter\n",
    "import plfit\n",
    "import matplotlib.pyplot as plt\n",
    "%matplotlib inline"
   ]
  },
  {
   "cell_type": "code",
   "execution_count": 21,
   "metadata": {
    "collapsed": true
   },
   "outputs": [],
   "source": [
    "G1 = nx.barabasi_albert_graph(n=5000, m=4)\n",
    "G2 = make_rp_graph('directed'  , n_max=5000*4, r=1, p=0.01, grow=True, m=4, directed=True)[0]\n",
    "G3 = make_rp_graph('undirected', n_max=5000*4, r=1, p=0, grow=True, m=4, directed=False)[0]"
   ]
  },
  {
   "cell_type": "code",
   "execution_count": 22,
   "metadata": {
    "collapsed": false
   },
   "outputs": [
    {
     "name": "stdout",
     "output_type": "stream",
     "text": [
      "Graph 1 has 5000 nodes and 19984 edges\n",
      "Graph 2 has 5000 nodes and 20000 edges\n",
      "Graph 3 has 5003 nodes and 20002 edges\n"
     ]
    }
   ],
   "source": [
    "print(\"Graph 1 has %d nodes and %d edges\" % (G1.number_of_nodes(), G1.number_of_edges()))\n",
    "print(\"Graph 2 has %d nodes and %d edges\" % (G2.number_of_nodes(), G2.number_of_edges()))\n",
    "print(\"Graph 3 has %d nodes and %d edges\" % (G3.number_of_nodes(), G3.number_of_edges()))"
   ]
  },
  {
   "cell_type": "code",
   "execution_count": 23,
   "metadata": {
    "collapsed": false
   },
   "outputs": [],
   "source": [
    "degs1 = Counter(dict(G1.degree()).values())\n",
    "degs2 = Counter(dict(G2.in_degree()).values())\n",
    "degs3 = Counter(dict(G3.degree()).values())"
   ]
  },
  {
   "cell_type": "code",
   "execution_count": 26,
   "metadata": {
    "collapsed": false
   },
   "outputs": [
    {
     "name": "stdout",
     "output_type": "stream",
     "text": [
      "Graph 1 has gamma=2.849 and 'p'=-0.082\n",
      "Graph 2 has gamma=1.540 and 'p'=-0.851\n",
      "Graph 3 has gamma=2.791 and 'p'=-0.116\n"
     ]
    }
   ],
   "source": [
    "gamma1 = plfit.plfit(dict(G1.degree()).values())._alpha\n",
    "gamma2 = plfit.plfit(dict(G2.in_degree()).values())._alpha\n",
    "gamma3 = plfit.plfit(dict(G3.degree()).values())._alpha\n",
    "print(\"Graph 1 has gamma=%.3f and 'p'=%.3f\" % (gamma1, (gamma1-3)/(gamma1-1)))\n",
    "print(\"Graph 2 has gamma=%.3f and 'p'=%.3f\" % (gamma2, (gamma2-2)/(gamma2-1)))\n",
    "print(\"Graph 3 has gamma=%.3f and 'p'=%.3f\" % (gamma3, (gamma3-3)/(gamma3-1)))"
   ]
  },
  {
   "cell_type": "code",
   "execution_count": 29,
   "metadata": {
    "collapsed": false
   },
   "outputs": [
    {
     "name": "stderr",
     "output_type": "stream",
     "text": [
      "/Users/janovergoor/anaconda/lib/python2.7/site-packages/ipykernel/__main__.py:8: RuntimeWarning: divide by zero encountered in power\n",
      "/Users/janovergoor/anaconda/lib/python2.7/site-packages/ipykernel/__main__.py:17: RuntimeWarning: divide by zero encountered in power\n",
      "/Users/janovergoor/anaconda/lib/python2.7/site-packages/ipykernel/__main__.py:26: RuntimeWarning: divide by zero encountered in power\n"
     ]
    },
    {
     "data": {
      "image/png": "[encoded data removed]",
      "text/plain": [
       "<matplotlib.figure.Figure at 0x11e661490>"
      ]
     },
     "metadata": {},
     "output_type": "display_data"
    }
   ],
   "source": [
    "plt.figure(figsize=(9,2.5))\n",
    "plt.subplot(131)\n",
    "plt.scatter(degs1.keys(), [float(y)/sum(degs1.values()) for y in degs1.values()], color='b')\n",
    "plt.xscale('log')\n",
    "plt.yscale('log')\n",
    "plt.xlim(1, 200)\n",
    "plt.ylim(0.0001, 1)\n",
    "plt.plot(np.arange(100), np.power(np.arange(100),-gamma1), color='r')\n",
    "plt.title(\"nx.barabasi_albert\")\n",
    "\n",
    "plt.subplot(132)\n",
    "plt.scatter(degs2.keys(), [float(y)/sum(degs2.values()) for y in degs2.values()], color='b')\n",
    "plt.xscale('log')\n",
    "plt.yscale('log')\n",
    "plt.xlim(1, 200)\n",
    "plt.ylim(0.0001, 1)\n",
    "plt.plot(range(100), np.power(np.arange(100),-gamma2), color='r')\n",
    "plt.title(\"(r,p) directed\")\n",
    "\n",
    "plt.subplot(133)\n",
    "plt.scatter(degs3.keys(), [float(y)/sum(degs3.values()) for y in degs3.values()], color='b')\n",
    "plt.xscale('log')\n",
    "plt.yscale('log')\n",
    "plt.xlim(1, 200)\n",
    "plt.ylim(0.0001, 1)\n",
    "plt.plot(range(100), np.power(np.arange(100),-gamma3), color='r')\n",
    "plt.title(\"(r,p) undirected\")\n",
    "\n",
    "plt.tight_layout()\n",
    "#plt.show()"
   ]
  },
  {
   "cell_type": "code",
   "execution_count": null,
   "metadata": {
    "collapsed": true
   },
   "outputs": [],
   "source": []
  },
  {
   "cell_type": "code",
   "execution_count": null,
   "metadata": {
    "collapsed": true
   },
   "outputs": [],
   "source": []
  },
  {
   "cell_type": "code",
   "execution_count": null,
   "metadata": {
    "collapsed": true
   },
   "outputs": [],
   "source": []
  },
  {
   "cell_type": "code",
   "execution_count": null,
   "metadata": {
    "collapsed": false
   },
   "outputs": [],
   "source": [
    "import plfit\n",
    "from numpy.random import rand,seed\n",
    "# generate a power law using the \"inverse\" power-law generator code\n",
    "X=plfit.plexp_inv(rand(1000),1,2.5)\n",
    "# use the numpy version to fit (usefortran=False is only needed if you installed the fortran version)\n",
    "myplfit=plfit.plfit(X,usefortran=False)\n",
    "# output should look something like this:\n",
    "# PYTHON plfit executed in 0.201362 seconds\n",
    "# xmin: 0.621393 n(>xmin): 263 alpha: 2.39465 +/- 0.0859979   Log-Likelihood: -238.959   ks: 0.0278864 p(ks): 0.986695\n",
    "# generate some plots\n",
    "from pylab import *\n",
    "figure(1)\n",
    "myplfit.plotpdf()\n",
    "figure(2)\n",
    "myplfit.plotcdf()"
   ]
  },
  {
   "cell_type": "code",
   "execution_count": null,
   "metadata": {
    "collapsed": false
   },
   "outputs": [],
   "source": [
    "#max(dict(G.degree()).values())\n",
    "#np.mean(dict(G.degree()).values())\n",
    "#nx.__version__\n",
    "#dict(G2.degree()).values()\n",
    "\n",
    "print(\"Graph 2 has gamma=%.3f and 'p'=%.3f\" % (gamma2, 1.0/(gamma2-1)))\n",
    "degs3 = {0: 1111, 1: 360, 2: 157, 3: 95, 4: 59, 5: 37, 6: 28, 8: 16, 7: 13, 9: 11, 14: 10, 11: 8, 13: 8, 15: 7, 17: 5, 12: 5, 10: 4, 16: 4, 18: 3, 20: 2, 21: 2, 23: 2, 26: 2, 27: 2, 28: 2, 31: 2, 46: 2, 24: 2, 48: 2, 73: 2, 36: 2, 129: 1, 396: 1, 19: 1, 22: 1, 536: 1, 29: 1, 30: 1, 32: 1, 33: 1, 34: 1, 35: 1, 550: 1, 41: 1, 45: 1, 50: 1, 52: 1, 54: 1, 58: 1, 63: 1, 67: 1, 77: 1, 78: 1, 79: 1, 84: 1, 85: 1, 214: 1, 92: 1, 93: 1, 350: 1, 96: 1, 97: 1, 105: 1, 112: 1, 627: 1, 124: 1}\n",
    "gamma3 = plfit.plfit(degs3.values())._alpha\n",
    "print(\"Graph 3 has gamma=%.3f and 'p'=%.3f\" % (gamma3, 1.0/(gamma3-1)))\n",
    "degs4 = {0: 1105, 1: 329, 2: 167, 3: 90, 4: 73, 5: 45, 7: 26, 6: 24, 8: 15, 9: 13, 10: 13, 14: 11, 11: 10, 12: 6, 13: 5, 27: 4, 28: 4, 19: 4, 21: 4, 23: 4, 16: 3, 26: 3, 18: 3, 39: 2, 20: 2, 47: 2, 38: 2, 32: 2, 538: 1, 437: 1, 498: 1, 473: 1, 553: 1, 174: 1, 199: 1, 45: 1, 78: 1, 132: 1, 83: 1, 145: 1, 90: 1, 84: 1, 64: 1, 108: 1, 42: 1, 40: 1, 93: 1, 182: 1, 15: 1, 34: 1, 71: 1, 49: 1, 63: 1, 55: 1, 17: 1, 65: 1, 25: 1}\n",
    "gamma4 = plfit.plfit(degs4.values())._alpha\n",
    "print(\"Graph 4 has gamma=%.3f and 'p'=%.3f\" % (gamma4, 1.0/(gamma4-1)))\n"
   ]
  },
  {
   "cell_type": "code",
   "execution_count": null,
   "metadata": {
    "collapsed": true
   },
   "outputs": [],
   "source": []
  }
 ],
 "metadata": {
  "anaconda-cloud": {},
  "kernelspec": {
   "display_name": "Python [conda root]",
   "language": "python",
   "name": "conda-root-py"
  },
  "language_info": {
   "codemirror_mode": {
    "name": "ipython",
    "version": 2
   },
   "file_extension": ".py",
   "mimetype": "text/x-python",
   "name": "python",
   "nbconvert_exporter": "python",
   "pygments_lexer": "ipython2",
   "version": "2.7.13"
  }
 },
 "nbformat": 4,
 "nbformat_minor": 2
}
