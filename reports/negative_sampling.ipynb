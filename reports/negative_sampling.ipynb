{
 "cells": [
  {
   "cell_type": "markdown",
   "metadata": {},
   "source": [
    "# Negative Sampling try-outs"
   ]
  },
  {
   "cell_type": "markdown",
   "metadata": {},
   "source": [
    "## Data Generation"
   ]
  },
  {
   "cell_type": "code",
   "execution_count": null,
   "metadata": {
    "collapsed": true
   },
   "outputs": [],
   "source": [
    "import sys\n",
    "import csv\n",
    "import numpy as np\n",
    "import random\n",
    "from src import util, logit\n",
    "from networkx import nx\n",
    "\n",
    "G = nx.erdos_renyi_graph(5000, 0.0025, seed=None, directed=False)\n",
    "t = 0\n",
    "path = \"%s/choices/test_sampling.csv\" % util.data_path\n",
    "f = open(path, 'w')\n",
    "writer = csv.writer(f)\n",
    "writer.writerow(['t', 'i', 'j', 'deg', 'fof', 'u', 'y'])\n",
    "\n",
    "while t < 1000:\n",
    "    # sample node i who is going to choose\n",
    "    i = util.random_sample(G.nodes())\n",
    "    # compute utilities per alternative j\n",
    "    util = {}\n",
    "    degs = {}\n",
    "    fofs = {}\n",
    "    # for each alternative, compute features and raw utility\n",
    "    for k in G.nodes():\n",
    "        # skip already-neighbors\n",
    "        if k == i or k in G.neighbors(i):\n",
    "            continue\n",
    "        # degree of alternative\n",
    "        degs[k] = G.degree(k)\n",
    "        # whether i and k have friends of friends in common\n",
    "        fofs[k] = 1 if k in nx.ego_graph(G, i, 2).nodes() else 0\n",
    "        # u_ik = 0.5 * log(deg_k) + 2 * fof_ik\n",
    "        util[k] = (0.5 * np.log(degs[k] + util.log_smooth)) + (2 * fofs[k])\n",
    "    # sample actual choice\n",
    "    us = np.exp(list(util.values()))\n",
    "    ps = [x / sum(us) for x in us]\n",
    "    j = np.random.choice(list(util.keys()), size=1, p=ps)[0]\n",
    "    # write copmlete choice sets\n",
    "    for k in degs.keys():\n",
    "        writer.writerow([t, i, k, degs[k], fofs[k], util[k], 1 if k == j else 0])\n",
    "    # actually add the edge\n",
    "    G.add_edge(i, j)\n",
    "    t += 1\n",
    "\n",
    "f.close()"
   ]
  },
  {
   "cell_type": "markdown",
   "metadata": {},
   "source": [
    "## Model Fitting"
   ]
  },
  {
   "cell_type": "code",
   "execution_count": 30,
   "metadata": {
    "collapsed": true
   },
   "outputs": [],
   "source": [
    "import sys\n",
    "sys.path.append('../')\n",
    "from src import util, logit\n",
    "import numpy as np\n",
    "import pandas as pd\n",
    "import csv"
   ]
  },
  {
   "cell_type": "code",
   "execution_count": 2,
   "metadata": {
    "collapsed": false
   },
   "outputs": [
    {
     "data": {
      "text/html": [
       "<div>\n",
       "<table border=\"1\" class=\"dataframe\">\n",
       "  <thead>\n",
       "    <tr style=\"text-align: right;\">\n",
       "      <th></th>\n",
       "      <th>choice_id</th>\n",
       "      <th>i</th>\n",
       "      <th>j</th>\n",
       "      <th>deg</th>\n",
       "      <th>fof</th>\n",
       "      <th>X</th>\n",
       "      <th>y</th>\n",
       "    </tr>\n",
       "  </thead>\n",
       "  <tbody>\n",
       "    <tr>\n",
       "      <th>0</th>\n",
       "      <td>1000.0</td>\n",
       "      <td>776</td>\n",
       "      <td>0</td>\n",
       "      <td>10</td>\n",
       "      <td>0</td>\n",
       "      <td>1.151293</td>\n",
       "      <td>0</td>\n",
       "    </tr>\n",
       "    <tr>\n",
       "      <th>1</th>\n",
       "      <td>1000.0</td>\n",
       "      <td>776</td>\n",
       "      <td>1</td>\n",
       "      <td>8</td>\n",
       "      <td>0</td>\n",
       "      <td>1.039721</td>\n",
       "      <td>0</td>\n",
       "    </tr>\n",
       "    <tr>\n",
       "      <th>2</th>\n",
       "      <td>1000.0</td>\n",
       "      <td>776</td>\n",
       "      <td>2</td>\n",
       "      <td>14</td>\n",
       "      <td>0</td>\n",
       "      <td>1.319529</td>\n",
       "      <td>0</td>\n",
       "    </tr>\n",
       "    <tr>\n",
       "      <th>3</th>\n",
       "      <td>1000.0</td>\n",
       "      <td>776</td>\n",
       "      <td>3</td>\n",
       "      <td>6</td>\n",
       "      <td>0</td>\n",
       "      <td>0.895880</td>\n",
       "      <td>0</td>\n",
       "    </tr>\n",
       "    <tr>\n",
       "      <th>4</th>\n",
       "      <td>1000.0</td>\n",
       "      <td>776</td>\n",
       "      <td>4</td>\n",
       "      <td>11</td>\n",
       "      <td>0</td>\n",
       "      <td>1.198948</td>\n",
       "      <td>0</td>\n",
       "    </tr>\n",
       "  </tbody>\n",
       "</table>\n",
       "</div>"
      ],
      "text/plain": [
       "   choice_id    i  j  deg  fof         X  y\n",
       "0     1000.0  776  0   10    0  1.151293  0\n",
       "1     1000.0  776  1    8    0  1.039721  0\n",
       "2     1000.0  776  2   14    0  1.319529  0\n",
       "3     1000.0  776  3    6    0  0.895880  0\n",
       "4     1000.0  776  4   11    0  1.198948  0"
      ]
     },
     "execution_count": 2,
     "metadata": {},
     "output_type": "execute_result"
    }
   ],
   "source": [
    "path = \"%s/choices/test_sampling.csv\" % util.data_path\n",
    "D = pd.read_csv(path).rename(index=str, columns={\"t\": \"choice_id\", 'u': 'X'})\n",
    "D.head()"
   ]
  },
  {
   "cell_type": "code",
   "execution_count": 31,
   "metadata": {
    "collapsed": false
   },
   "outputs": [
    {
     "name": "stdout",
     "output_type": "stream",
     "text": [
      "[id] parameters after fitting: [1.00616609]\n"
     ]
    }
   ],
   "source": [
    "m_all = logit.FeatureModel('id', D=D, vvv=1)\n",
    "m_all.fit()"
   ]
  },
  {
   "cell_type": "markdown",
   "metadata": {},
   "source": [
    "Now, let's do some negative sampling."
   ]
  },
  {
   "cell_type": "code",
   "execution_count": 22,
   "metadata": {
    "collapsed": false
   },
   "outputs": [
    {
     "name": "stdout",
     "output_type": "stream",
     "text": [
      "(3600, 10)\n"
     ]
    }
   ],
   "source": [
    "s = 10\n",
    "Ds = D.query('y == 0') \\\n",
    "      .groupby('choice_id') \\\n",
    "      .apply(lambda x: x.sample(n=5)) \\\n",
    "      .append(D.query('y == 1'))\n",
    "print(Ds.shape)\n",
    "m = logit.FeatureModel('id', D=Ds, vvv=1)\n",
    "m.fit()"
   ]
  },
  {
   "cell_type": "code",
   "execution_count": 29,
   "metadata": {
    "collapsed": false
   },
   "outputs": [
    {
     "name": "stdout",
     "output_type": "stream",
     "text": [
      "0\n",
      "1\n",
      "2\n",
      "3\n",
      "4\n",
      "5\n",
      "6\n",
      "7\n",
      "8\n",
      "9\n",
      "10\n",
      "11\n",
      "12\n",
      "13\n",
      "14\n",
      "15\n",
      "16\n",
      "17\n",
      "18\n",
      "19\n",
      "20\n",
      "21\n",
      "22\n",
      "23\n",
      "24\n",
      "25\n",
      "26\n",
      "27\n",
      "28\n",
      "29\n"
     ]
    }
   ],
   "source": [
    "res = []\n",
    "for i in range(30):\n",
    "    print(i)\n",
    "    for s in [5, 10, 20, 50, 100, 500]:\n",
    "        Ds = D.query('y == 0') \\\n",
    "              .groupby('choice_id') \\\n",
    "              .apply(lambda x: x.sample(n=s)) \\\n",
    "              .append(D.query('y == 1'))\n",
    "        m1 = logit.FeatureModel('id', D=Ds, vvv=0)\n",
    "        m1.fit()\n",
    "        res.append([i, s, m1.u[0]])"
   ]
  },
  {
   "cell_type": "code",
   "execution_count": 35,
   "metadata": {
    "collapsed": false
   },
   "outputs": [],
   "source": [
    "fn = '/Users/janovergoor/projects/choosing_to_grow/choose2grow/reports/sampling_data_py.csv'\n",
    "with open(fn, 'w') as f:\n",
    "    writer = csv.writer(f)\n",
    "    writer.writerow(['i', 's', 'theta_0'])\n",
    "    writer.writerow(['0', 'all', m_all.u[0]])\n",
    "    for row in res:\n",
    "        writer.writerow(row)"
   ]
  },
  {
   "cell_type": "code",
   "execution_count": null,
   "metadata": {
    "collapsed": false
   },
   "outputs": [],
   "source": [
    "    "
   ]
  },
  {
   "cell_type": "code",
   "execution_count": null,
   "metadata": {
    "collapsed": true
   },
   "outputs": [],
   "source": []
  },
  {
   "cell_type": "code",
   "execution_count": null,
   "metadata": {
    "collapsed": true
   },
   "outputs": [],
   "source": []
  }
 ],
 "metadata": {
  "anaconda-cloud": {},
  "kernelspec": {
   "display_name": "Python [conda root]",
   "language": "python",
   "name": "conda-root-py"
  },
  "language_info": {
   "codemirror_mode": {
    "name": "ipython",
    "version": 2
   },
   "file_extension": ".py",
   "mimetype": "text/x-python",
   "name": "python",
   "nbconvert_exporter": "python",
   "pygments_lexer": "ipython2",
   "version": "2.7.13"
  }
 },
 "nbformat": 4,
 "nbformat_minor": 2
}
