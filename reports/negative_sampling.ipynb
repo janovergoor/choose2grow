{
 "cells": [
  {
   "cell_type": "markdown",
   "metadata": {},
   "source": [
    "# Negative Sampling try-outs"
   ]
  },
  {
   "cell_type": "markdown",
   "metadata": {},
   "source": [
    "## Data Generation"
   ]
  },
  {
   "cell_type": "code",
   "execution_count": null,
   "metadata": {
    "collapsed": true
   },
   "outputs": [],
   "source": [
    "import sys\n",
    "import csv\n",
    "import numpy as np\n",
    "import random\n",
    "from src import util, logit\n",
    "from networkx import nx\n",
    "\n",
    "G = nx.erdos_renyi_graph(5000, 0.0025, seed=None, directed=False)\n",
    "t = 0\n",
    "path = \"%s/choices/test_sampling.csv\" % util.data_path\n",
    "f = open(path, 'w')\n",
    "writer = csv.writer(f)\n",
    "writer.writerow(['t', 'i', 'j', 'deg', 'fof', 'u', 'y'])\n",
    "\n",
    "while t < 1000:\n",
    "    # sample node i who is going to choose\n",
    "    i = util.random_sample(G.nodes())\n",
    "    # compute utilities per alternative j\n",
    "    util = {}\n",
    "    degs = {}\n",
    "    fofs = {}\n",
    "    # for each alternative, compute features and raw utility\n",
    "    for k in G.nodes():\n",
    "        # skip already-neighbors\n",
    "        if k == i or k in G.neighbors(i):\n",
    "            continue\n",
    "        # degree of alternative\n",
    "        degs[k] = G.degree(k)\n",
    "        # whether i and k have friends of friends in common\n",
    "        fofs[k] = 1 if k in nx.ego_graph(G, i, 2).nodes() else 0\n",
    "        # u_ik = 0.5 * log(deg_k) + 2 * fof_ik\n",
    "        util[k] = (0.5 * np.log(degs[k] + util.log_smooth)) + (2 * fofs[k])\n",
    "    # sample actual choice\n",
    "    us = np.exp(list(util.values()))\n",
    "    ps = [x / sum(us) for x in us]\n",
    "    j = np.random.choice(list(util.keys()), size=1, p=ps)[0]\n",
    "    # write copmlete choice sets\n",
    "    for k in degs.keys():\n",
    "        writer.writerow([t, i, k, degs[k], fofs[k], util[k], 1 if k == j else 0])\n",
    "    # actually add the edge\n",
    "    G.add_edge(i, j)\n",
    "    t += 1\n",
    "\n",
    "f.close()"
   ]
  },
  {
   "cell_type": "markdown",
   "metadata": {},
   "source": [
    "## Model Fitting"
   ]
  },
  {
   "cell_type": "code",
   "execution_count": 1,
   "metadata": {
    "collapsed": true
   },
   "outputs": [],
   "source": [
    "import sys\n",
    "sys.path.append('../')\n",
    "from src import util, logit\n",
    "import numpy as np\n",
    "import pandas as pd\n",
    "import csv"
   ]
  },
  {
   "cell_type": "code",
   "execution_count": 19,
   "metadata": {
    "collapsed": false
   },
   "outputs": [
    {
     "data": {
      "text/html": [
       "<div>\n",
       "<table border=\"1\" class=\"dataframe\">\n",
       "  <thead>\n",
       "    <tr style=\"text-align: right;\">\n",
       "      <th></th>\n",
       "      <th>choice_id</th>\n",
       "      <th>i</th>\n",
       "      <th>j</th>\n",
       "      <th>deg</th>\n",
       "      <th>fof</th>\n",
       "      <th>u</th>\n",
       "      <th>y</th>\n",
       "    </tr>\n",
       "  </thead>\n",
       "  <tbody>\n",
       "    <tr>\n",
       "      <th>0</th>\n",
       "      <td>0</td>\n",
       "      <td>3458</td>\n",
       "      <td>0</td>\n",
       "      <td>8</td>\n",
       "      <td>0</td>\n",
       "      <td>1.039721</td>\n",
       "      <td>0</td>\n",
       "    </tr>\n",
       "    <tr>\n",
       "      <th>1</th>\n",
       "      <td>0</td>\n",
       "      <td>3458</td>\n",
       "      <td>1</td>\n",
       "      <td>13</td>\n",
       "      <td>0</td>\n",
       "      <td>1.282475</td>\n",
       "      <td>0</td>\n",
       "    </tr>\n",
       "    <tr>\n",
       "      <th>2</th>\n",
       "      <td>0</td>\n",
       "      <td>3458</td>\n",
       "      <td>2</td>\n",
       "      <td>15</td>\n",
       "      <td>0</td>\n",
       "      <td>1.354025</td>\n",
       "      <td>0</td>\n",
       "    </tr>\n",
       "    <tr>\n",
       "      <th>3</th>\n",
       "      <td>0</td>\n",
       "      <td>3458</td>\n",
       "      <td>3</td>\n",
       "      <td>14</td>\n",
       "      <td>0</td>\n",
       "      <td>1.319529</td>\n",
       "      <td>0</td>\n",
       "    </tr>\n",
       "    <tr>\n",
       "      <th>4</th>\n",
       "      <td>0</td>\n",
       "      <td>3458</td>\n",
       "      <td>4</td>\n",
       "      <td>9</td>\n",
       "      <td>0</td>\n",
       "      <td>1.098612</td>\n",
       "      <td>0</td>\n",
       "    </tr>\n",
       "  </tbody>\n",
       "</table>\n",
       "</div>"
      ],
      "text/plain": [
       "   choice_id     i  j  deg  fof         u  y\n",
       "0          0  3458  0    8    0  1.039721  0\n",
       "1          0  3458  1   13    0  1.282475  0\n",
       "2          0  3458  2   15    0  1.354025  0\n",
       "3          0  3458  3   14    0  1.319529  0\n",
       "4          0  3458  4    9    0  1.098612  0"
      ]
     },
     "execution_count": 19,
     "metadata": {},
     "output_type": "execute_result"
    }
   ],
   "source": [
    "path = \"%s/choices/test_sampling_v2_id0.csv\" % util.data_path\n",
    "D = pd.read_csv(path).rename(index=str, columns={\"t\": \"choice_id\"})\n",
    "D.head()"
   ]
  },
  {
   "cell_type": "code",
   "execution_count": 20,
   "metadata": {
    "collapsed": false
   },
   "outputs": [
    {
     "name": "stdout",
     "output_type": "stream",
     "text": [
      "[id] parameters after fitting: [1.02230731]\n"
     ]
    }
   ],
   "source": [
    "m_all1 = logit.FeatureModel('id', D=D, vvv=1, features=['u'])\n",
    "m_all1.fit()"
   ]
  },
  {
   "cell_type": "code",
   "execution_count": 25,
   "metadata": {
    "collapsed": false
   },
   "outputs": [
    {
     "name": "stdout",
     "output_type": "stream",
     "text": [
      "[id] parameters after fitting: [0.47525839 1.84947975]\n"
     ]
    },
    {
     "data": {
      "text/plain": [
       "array([0.12688713, 0.09041842])"
      ]
     },
     "execution_count": 25,
     "metadata": {},
     "output_type": "execute_result"
    }
   ],
   "source": [
    "D['log_deg'] = np.log(D['deg'] + util.log_smooth)\n",
    "m_all2 = logit.FeatureModel('id', D=D, vvv=1, features=['log_deg','fof'])\n",
    "m_all2.fit()\n",
    "m_all.se"
   ]
  },
  {
   "cell_type": "markdown",
   "metadata": {},
   "source": [
    "Now, let's do some negative sampling."
   ]
  },
  {
   "cell_type": "code",
   "execution_count": 13,
   "metadata": {
    "collapsed": false
   },
   "outputs": [
    {
     "name": "stdout",
     "output_type": "stream",
     "text": [
      "(3600, 10)\n",
      "[id] parameters after fitting: [0.99513229]\n"
     ]
    }
   ],
   "source": [
    "s = 10\n",
    "Ds = D.query('y == 0') \\\n",
    "      .groupby('choice_id') \\\n",
    "      .apply(lambda x: x.sample(n=5)) \\\n",
    "      .append(D.query('y == 1'))\n",
    "print(Ds.shape)\n",
    "m = logit.FeatureModel('id', D=Ds, vvv=1, features=['u'])\n",
    "m.fit()"
   ]
  },
  {
   "cell_type": "code",
   "execution_count": 18,
   "metadata": {
    "collapsed": false
   },
   "outputs": [],
   "source": [
    "Ds[['choice_id','i','j','deg','fof','u','y','score']].to_csv(\"%s/choices/test_sampling_down.csv\" % util.data_path, index=False)"
   ]
  },
  {
   "cell_type": "markdown",
   "metadata": {},
   "source": [
    "For $s \\in [5, 10, 20, 50, 100]$, do uniform sampling 50 times, compute both utility model and parameter model."
   ]
  },
  {
   "cell_type": "code",
   "execution_count": null,
   "metadata": {
    "collapsed": false
   },
   "outputs": [],
   "source": [
    "res = []\n",
    "for i in range(10):\n",
    "    print(i)\n",
    "    path = \"%s/choices/test_sampling_v2_id%d.csv\" % (util.data_path, i)\n",
    "    D = pd.read_csv(path).rename(index=str, columns={\"t\": \"choice_id\"})\n",
    "    D['log_deg'] = np.log(D['deg'] + util.log_smooth)\n",
    "    # fit \"all\" models\n",
    "    m1 = logit.FeatureModel('id', D=D, vvv=1, features=['u'])\n",
    "    m2 = logit.FeatureModel('id', D=D, vvv=1, features=['log_deg','fof'])\n",
    "    res.append([i, 0, 'all', m1.u[0], m2.u[0], m2.u[1]])\n",
    "    # do sample 100 times\n",
    "    for j in range(100):\n",
    "        for s in [5, 10, 20, 50, 100, 500]:\n",
    "            Ds = D.query('y == 0') \\\n",
    "                  .groupby('choice_id') \\\n",
    "                  .apply(lambda x: x.sample(n=s)) \\\n",
    "                  .append(D.query('y == 1'))\n",
    "            m1 = logit.FeatureModel('id', D=Ds, vvv=0, features=['u'])\n",
    "            m1.fit()\n",
    "            m2 = logit.FeatureModel('id', D=Ds, vvv=0, features=['log_deg','fof'])\n",
    "            m2.fit()\n",
    "            res.append([i, j, s, m1.u[0], m2.u[0], m2.u[1]])"
   ]
  },
  {
   "cell_type": "code",
   "execution_count": 10,
   "metadata": {
    "collapsed": false
   },
   "outputs": [],
   "source": [
    "fn = '/Users/janovergoor/projects/choosing_to_grow/choose2grow/reports/sampling_data_py_v2.csv'\n",
    "with open(fn, 'w') as f:\n",
    "    writer = csv.writer(f)\n",
    "    writer.writerow(['i', 's', 'theta_0', 'theta_1', 'theta_2'])\n",
    "    for row in res:\n",
    "        writer.writerow(row)"
   ]
  },
  {
   "cell_type": "markdown",
   "metadata": {
    "collapsed": false
   },
   "source": [
    "# Stratified sampling and adjustment"
   ]
  },
  {
   "cell_type": "code",
   "execution_count": 7,
   "metadata": {
    "collapsed": false
   },
   "outputs": [
    {
     "name": "stdout",
     "output_type": "stream",
     "text": [
      "Fitting all\n",
      "[id] parameters after fitting: [0.99958872]\n",
      "[id] parameters after fitting: [0.47484475 5.00419637]\n",
      "Fitting uniform\n",
      "[id] parameters after fitting: [0.9875032]\n",
      "[id] parameters after fitting: [0.57237396 4.90050077]\n",
      "Fitting stratified\n",
      "[id] parameters after fitting: [-0.02560416]\n",
      "[id] parameters after fitting: [ 0.45674471 -0.30227014]\n",
      "Fitting stratified+adj\n",
      "[id] parameters after fitting: [0.99457014]\n",
      "[id] parameters after fitting: [0.58535024 4.94890576]\n"
     ]
    }
   ],
   "source": [
    "res = []\n",
    "i = 9\n",
    "s = 5\n",
    "path = \"../negative_sampling/test_sampling_v3_id%d.csv\" % (i)\n",
    "D = pd.read_csv(path).rename(index=str, columns={\"t\": \"choice_id\"})\n",
    "D['log_deg'] = np.log(D['deg'] + util.log_smooth)\n",
    "\n",
    "# fit \"all\" models\n",
    "print(\"Fitting all\")\n",
    "m1 = logit.FeatureModel('id', D=D, vvv=1, features=['u'])\n",
    "m1.fit()\n",
    "m2 = logit.FeatureModel('id', D=D, vvv=1, features=['log_deg','fof'])\n",
    "m2.fit()\n",
    "res.append([i, 'all', m1.u[0], m1.se[0], m2.u[0], m2.se[0], m2.u[1], m2.se[1]])\n",
    "\n",
    "# fit uniform sampling models\n",
    "print(\"Fitting uniform\")\n",
    "Ds = D.query('y == 0').groupby('choice_id').apply(lambda x: x.sample(n=s*2)).append(D.query('y == 1'))\n",
    "m1 = logit.FeatureModel('id', D=Ds, vvv=1, features=['u'])\n",
    "m1.fit()\n",
    "m2 = logit.FeatureModel('id', D=Ds, vvv=1, features=['log_deg','fof'])\n",
    "m2.fit()\n",
    "res.append([i, 'unif', m1.u[0], m1.se[0], m2.u[0], m2.se[0], m2.u[1], m2.se[1]])\n",
    "\n",
    "# fit stratified sampling models\n",
    "print(\"Fitting stratified\")\n",
    "Ds = D.query('y == 0').query('fof == 0').groupby('choice_id').apply(lambda x: x.sample(n=s, replace=True)) \\\n",
    "      .append(D.query('y == 0').query('fof == 1').groupby('choice_id').apply(lambda x: x.sample(n=s, replace=True))) \\\n",
    "      .append(D.query('y == 1'))\n",
    "m1 = logit.FeatureModel('id', D=Ds, vvv=1, features=['u'])\n",
    "m1.fit()\n",
    "m2 = logit.FeatureModel('id', D=Ds, vvv=1, features=['log_deg','fof'])\n",
    "m2.fit()\n",
    "res.append([i, 'strat', m1.u[0], m1.se[0], m2.u[0], m2.se[0], m2.u[1], m2.se[1]])\n",
    "\n",
    "# fit stratified sampling models w adjustment\n",
    "print(\"Fitting stratified+adj\")\n",
    "D2 = D.assign( n = lambda x: x.groupby(['choice_id','fof'])['j'].transform('count')) # add relevant counts\n",
    "Ds = D2.query('y == 0').query('fof == 0').groupby('choice_id').apply(lambda x: x.sample(n=s, replace=True)) \\\n",
    "      .append(D2.query('y == 0').query('fof == 1').groupby('choice_id').apply(lambda x: x.sample(n=s, replace=True))) \\\n",
    "      .append(D2.query('y == 1')) \\\n",
    "      .sort_values(by=['choice_id','y'])\n",
    "Ds['w'] = np.where(Ds['y']==1, 1.0, float(s) / Ds['n'])\n",
    "\n",
    "m1 = logit.FeatureModel('id', D=Ds, vvv=1, features=['u'], sw='w')\n",
    "m1.fit()\n",
    "m2 = logit.FeatureModel('id', D=Ds, vvv=1, features=['log_deg','fof'], sw='w')\n",
    "m2.fit()\n",
    "res.append([i, 'strat_adj', m1.u[0], m1.se[0], m2.u[0], m2.se[0], m2.u[1], m2.se[1]])\n",
    "\n",
    "fn = '/Users/janovergoor/projects/choosing_to_grow/choose2grow/reports/sampling_data_strat2.csv'\n",
    "with open(fn, 'w') as f:\n",
    "    writer = csv.writer(f)\n",
    "    writer.writerow(['i', 's', 'mu_0', 'se_0', 'mu_1', 'se_1', 'mu_2', 'se_2'])\n",
    "    for row in res:\n",
    "        writer.writerow(row)\n"
   ]
  },
  {
   "cell_type": "code",
   "execution_count": 2,
   "metadata": {
    "collapsed": false
   },
   "outputs": [
    {
     "data": {
      "text/html": [
       "<div>\n",
       "<table border=\"1\" class=\"dataframe\">\n",
       "  <thead>\n",
       "    <tr style=\"text-align: right;\">\n",
       "      <th></th>\n",
       "      <th>choice_id</th>\n",
       "      <th>i</th>\n",
       "      <th>j</th>\n",
       "      <th>deg</th>\n",
       "      <th>fof</th>\n",
       "      <th>u</th>\n",
       "      <th>y</th>\n",
       "      <th>n</th>\n",
       "      <th>w</th>\n",
       "    </tr>\n",
       "  </thead>\n",
       "  <tbody>\n",
       "    <tr>\n",
       "      <th>(0, 2123)</th>\n",
       "      <td>0</td>\n",
       "      <td>2594</td>\n",
       "      <td>2123</td>\n",
       "      <td>7</td>\n",
       "      <td>0</td>\n",
       "      <td>9.729551e-01</td>\n",
       "      <td>0</td>\n",
       "      <td>4992</td>\n",
       "      <td>0.001002</td>\n",
       "    </tr>\n",
       "    <tr>\n",
       "      <th>(0, 4255)</th>\n",
       "      <td>0</td>\n",
       "      <td>2594</td>\n",
       "      <td>4256</td>\n",
       "      <td>2</td>\n",
       "      <td>0</td>\n",
       "      <td>3.465736e-01</td>\n",
       "      <td>0</td>\n",
       "      <td>4992</td>\n",
       "      <td>0.001002</td>\n",
       "    </tr>\n",
       "    <tr>\n",
       "      <th>(0, 1957)</th>\n",
       "      <td>0</td>\n",
       "      <td>2594</td>\n",
       "      <td>1957</td>\n",
       "      <td>4</td>\n",
       "      <td>0</td>\n",
       "      <td>6.931472e-01</td>\n",
       "      <td>0</td>\n",
       "      <td>4992</td>\n",
       "      <td>0.001002</td>\n",
       "    </tr>\n",
       "    <tr>\n",
       "      <th>(0, 1740)</th>\n",
       "      <td>0</td>\n",
       "      <td>2594</td>\n",
       "      <td>1740</td>\n",
       "      <td>4</td>\n",
       "      <td>0</td>\n",
       "      <td>6.931472e-01</td>\n",
       "      <td>0</td>\n",
       "      <td>4992</td>\n",
       "      <td>0.001002</td>\n",
       "    </tr>\n",
       "    <tr>\n",
       "      <th>(0, 3547)</th>\n",
       "      <td>0</td>\n",
       "      <td>2594</td>\n",
       "      <td>3548</td>\n",
       "      <td>1</td>\n",
       "      <td>0</td>\n",
       "      <td>5.000000e-09</td>\n",
       "      <td>0</td>\n",
       "      <td>4992</td>\n",
       "      <td>0.001002</td>\n",
       "    </tr>\n",
       "    <tr>\n",
       "      <th>(0, 4197)</th>\n",
       "      <td>0</td>\n",
       "      <td>2594</td>\n",
       "      <td>4198</td>\n",
       "      <td>1</td>\n",
       "      <td>1</td>\n",
       "      <td>5.000000e+00</td>\n",
       "      <td>0</td>\n",
       "      <td>6</td>\n",
       "      <td>0.833333</td>\n",
       "    </tr>\n",
       "    <tr>\n",
       "      <th>(0, 3236)</th>\n",
       "      <td>0</td>\n",
       "      <td>2594</td>\n",
       "      <td>3237</td>\n",
       "      <td>4</td>\n",
       "      <td>1</td>\n",
       "      <td>5.693147e+00</td>\n",
       "      <td>0</td>\n",
       "      <td>6</td>\n",
       "      <td>0.833333</td>\n",
       "    </tr>\n",
       "    <tr>\n",
       "      <th>(0, 294)</th>\n",
       "      <td>0</td>\n",
       "      <td>2594</td>\n",
       "      <td>294</td>\n",
       "      <td>7</td>\n",
       "      <td>1</td>\n",
       "      <td>5.972955e+00</td>\n",
       "      <td>0</td>\n",
       "      <td>6</td>\n",
       "      <td>0.833333</td>\n",
       "    </tr>\n",
       "    <tr>\n",
       "      <th>(0, 294)</th>\n",
       "      <td>0</td>\n",
       "      <td>2594</td>\n",
       "      <td>294</td>\n",
       "      <td>7</td>\n",
       "      <td>1</td>\n",
       "      <td>5.972955e+00</td>\n",
       "      <td>0</td>\n",
       "      <td>6</td>\n",
       "      <td>0.833333</td>\n",
       "    </tr>\n",
       "    <tr>\n",
       "      <th>(0, 3188)</th>\n",
       "      <td>0</td>\n",
       "      <td>2594</td>\n",
       "      <td>3189</td>\n",
       "      <td>6</td>\n",
       "      <td>1</td>\n",
       "      <td>5.895880e+00</td>\n",
       "      <td>0</td>\n",
       "      <td>6</td>\n",
       "      <td>0.833333</td>\n",
       "    </tr>\n",
       "    <tr>\n",
       "      <th>2107</th>\n",
       "      <td>0</td>\n",
       "      <td>2594</td>\n",
       "      <td>2107</td>\n",
       "      <td>4</td>\n",
       "      <td>0</td>\n",
       "      <td>6.931472e-01</td>\n",
       "      <td>1</td>\n",
       "      <td>4992</td>\n",
       "      <td>1.000000</td>\n",
       "    </tr>\n",
       "  </tbody>\n",
       "</table>\n",
       "</div>"
      ],
      "text/plain": [
       "           choice_id     i     j  deg  fof             u  y     n         w\n",
       "(0, 2123)          0  2594  2123    7    0  9.729551e-01  0  4992  0.001002\n",
       "(0, 4255)          0  2594  4256    2    0  3.465736e-01  0  4992  0.001002\n",
       "(0, 1957)          0  2594  1957    4    0  6.931472e-01  0  4992  0.001002\n",
       "(0, 1740)          0  2594  1740    4    0  6.931472e-01  0  4992  0.001002\n",
       "(0, 3547)          0  2594  3548    1    0  5.000000e-09  0  4992  0.001002\n",
       "(0, 4197)          0  2594  4198    1    1  5.000000e+00  0     6  0.833333\n",
       "(0, 3236)          0  2594  3237    4    1  5.693147e+00  0     6  0.833333\n",
       "(0, 294)           0  2594   294    7    1  5.972955e+00  0     6  0.833333\n",
       "(0, 294)           0  2594   294    7    1  5.972955e+00  0     6  0.833333\n",
       "(0, 3188)          0  2594  3189    6    1  5.895880e+00  0     6  0.833333\n",
       "2107               0  2594  2107    4    0  6.931472e-01  1  4992  1.000000"
      ]
     },
     "execution_count": 2,
     "metadata": {},
     "output_type": "execute_result"
    }
   ],
   "source": [
    "i = 9\n",
    "s = 5\n",
    "path = \"../negative_sampling/test_sampling_v3_id%d.csv\" % (i)\n",
    "D = pd.read_csv(path).rename(index=str, columns={\"t\": \"choice_id\"})\n",
    "\n",
    "# compute count by group\n",
    "D2 = D.assign( n = lambda x: x.groupby(['choice_id','fof'])['j'].transform('count'))\n",
    "Ds = D2.query('y == 0').query('fof == 0').groupby('choice_id').apply(lambda x: x.sample(n=s, replace=True)) \\\n",
    "      .append(D2.query('y == 0').query('fof == 1').groupby('choice_id').apply(lambda x: x.sample(n=s, replace=True))) \\\n",
    "      .append(D2.query('y == 1')) \\\n",
    "      .sort_values(by=['choice_id','y'])\n",
    "Ds['w'] = np.where(Ds['y']==1, 1.0, float(s) / Ds['n'])\n",
    "#Ds['w'] = np.where(Ds['y']==1, 1.0 / Ds['n'], 5.0 / Ds['n'])\n",
    "Ds.head(n=11)"
   ]
  },
  {
   "cell_type": "code",
   "execution_count": 6,
   "metadata": {
    "collapsed": false
   },
   "outputs": [
    {
     "name": "stdout",
     "output_type": "stream",
     "text": [
      "[id] parameters after fitting: [-0.02767681]\n",
      "[id] parameters after fitting: [0.99454735]\n"
     ]
    }
   ],
   "source": [
    "m1 = logit.FeatureModel('id', D=Ds, vvv=1, features=['u'])\n",
    "m1.fit()\n",
    "m1 = logit.FeatureModel('id', D=Ds, vvv=1, features=['u'], sw='w')\n",
    "m1.fit()"
   ]
  },
  {
   "cell_type": "code",
   "execution_count": null,
   "metadata": {
    "collapsed": false
   },
   "outputs": [],
   "source": []
  },
  {
   "cell_type": "code",
   "execution_count": 5,
   "metadata": {
    "collapsed": false
   },
   "outputs": [],
   "source": [
    "from imp import reload\n",
    "logit=reload(logit)"
   ]
  },
  {
   "cell_type": "code",
   "execution_count": null,
   "metadata": {
    "collapsed": true
   },
   "outputs": [],
   "source": []
  }
 ],
 "metadata": {
  "anaconda-cloud": {},
  "kernelspec": {
   "display_name": "Python [conda root]",
   "language": "python",
   "name": "conda-root-py"
  },
  "language_info": {
   "codemirror_mode": {
    "name": "ipython",
    "version": 2
   },
   "file_extension": ".py",
   "mimetype": "text/x-python",
   "name": "python",
   "nbconvert_exporter": "python",
   "pygments_lexer": "ipython2",
   "version": "2.7.13"
  }
 },
 "nbformat": 4,
 "nbformat_minor": 2
}
