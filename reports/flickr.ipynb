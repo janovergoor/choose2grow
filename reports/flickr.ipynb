{
 "cells": [
  {
   "cell_type": "code",
   "execution_count": 106,
   "metadata": {
    "collapsed": false
   },
   "outputs": [],
   "source": [
    "import sys\n",
    "sys.path.append('../src')\n",
    "import util\n",
    "import logit\n",
    "import numpy as np\n",
    "import matplotlib.pyplot as plt\n",
    "from matplotlib import cm\n",
    "from mpl_toolkits.mplot3d import axes3d, Axes3D\n",
    "from matplotlib import gridspec\n",
    "%matplotlib inline"
   ]
  },
  {
   "cell_type": "code",
   "execution_count": 107,
   "metadata": {
    "collapsed": true
   },
   "outputs": [],
   "source": [
    "def make_heatmap(ax, Z, title=\"Log-likelihood\", step=0.025):\n",
    "    ps = np.arange(1.0, -step, -step)\n",
    "    rs = np.arange(0.0, 1.0 + step, step)\n",
    "    X, Y = np.meshgrid(ps, rs)\n",
    "    i, j = np.unravel_index(np.nanargmin(Z), Z.shape)  # get empirical minimum\n",
    "    # make the plot\n",
    "    ax.imshow(Z, cmap=cm.coolwarm)\n",
    "    ax.set_xticks(np.arange(0, (1.0/step) + 0.05, (1.0/step)/4))\n",
    "    ax.set_xticklabels(np.arange(0.0, 1.05, 0.25))\n",
    "    ax.set_yticks(np.arange(0,  (1.0/step) + 0.05, (1.00/step)/4))\n",
    "    ax.set_yticklabels(np.arange(1, -.01, -0.25))\n",
    "    ax.set_xlabel(r'$r$')\n",
    "    ax.set_ylabel(r'$p$')\n",
    "    ax.plot(j, i, 'o', color='black')  # empirical max\n",
    "    ax.set_title(title)"
   ]
  },
  {
   "cell_type": "code",
   "execution_count": 112,
   "metadata": {
    "collapsed": false
   },
   "outputs": [],
   "source": [
    "# read data\n",
    "from env import data_path\n",
    "D = util.read_data_single(data_path + '/flickr-growth_choices_py.csv', max_deg=None)"
   ]
  },
  {
   "cell_type": "code",
   "execution_count": 113,
   "metadata": {
    "collapsed": false
   },
   "outputs": [
    {
     "name": "stdout",
     "output_type": "stream",
     "text": [
      "[flickr] fitting with BFGS\n",
      "[flickr] parameters after fitting: [1.]\n",
      "LL =  9963.483104114674\n"
     ]
    }
   ],
   "source": [
    "# 1) single log-degree\n",
    "m = logit.LogDegreeModel('flickr', D=D, vvv=2)\n",
    "m.fit()\n",
    "print(\"LL = \", m.ll())"
   ]
  },
  {
   "cell_type": "code",
   "execution_count": 114,
   "metadata": {
    "collapsed": false
   },
   "outputs": [
    {
     "name": "stdout",
     "output_type": "stream",
     "text": [
      "[flickr] [  0/200] (u) pi_1=0.210 u_1=1.00 (ld) pi_2=0.790 u_2=1.37 (*) tot_ll=7330.5957\n",
      "[flickr] delta in ll (0.003) < etol (0.010), stopping\n",
      "[flickr] u's  = [(u:1.000), (ld:1.211)]\n",
      "[flickr] pi's = [(u:0.094), (ld:0.906)]\n",
      "LL =  7178.076181582004\n"
     ]
    }
   ],
   "source": [
    "# 2a) 2-mode mixed logit (just p)\n",
    "m = logit.MixedLogitModel('flickr', D=D, vvv=2)\n",
    "m.add_uniform_model()\n",
    "m.add_log_degree_model()\n",
    "T = m.fit(etol=0.01, n_rounds=200, return_stats=True)\n",
    "print(\"LL = \", m.ll())"
   ]
  },
  {
   "cell_type": "code",
   "execution_count": 115,
   "metadata": {
    "collapsed": false
   },
   "outputs": [
    {
     "name": "stdout",
     "output_type": "stream",
     "text": [
      "[flickr] [  0/200] (u) pi_1=0.210 u_1=1.00 (ld) pi_2=0.790 u_2=1.00 (*) tot_ll=7507.1521\n",
      "[flickr] delta in ll (0.005) < etol (0.010), stopping\n",
      "[flickr] u's  = [(u:1.000), (ld:1.000)]\n",
      "[flickr] pi's = [(u:0.077), (ld:0.923)]\n",
      "LL =  7280.324013222918\n"
     ]
    }
   ],
   "source": [
    "# 2b) clamped 2-mode mixed logit (just p)\n",
    "m = logit.MixedLogitModel('flickr', D=D, vvv=2)\n",
    "m.add_uniform_model()\n",
    "m.add_log_degree_model(bounds=((1, 1),))\n",
    "T = m.fit(etol=0.01, n_rounds=200, return_stats=True)\n",
    "print(\"LL = \", m.ll())"
   ]
  },
  {
   "cell_type": "code",
   "execution_count": 116,
   "metadata": {
    "collapsed": false
   },
   "outputs": [
    {
     "name": "stdout",
     "output_type": "stream",
     "text": [
      "[flickr] [  0/200] (u) pi_1=0.157 u_1=1.00 (uf) pi_2=0.843 u_2=1.00 (*) tot_ll=5410.3518\n",
      "[flickr] delta in ll (0.001) < etol (0.010), stopping\n",
      "[flickr] u's  = [(u:1.000), (uf:1.000)]\n",
      "[flickr] pi's = [(u:0.046), (uf:0.954)]\n",
      "LL =  5162.5879483443905\n"
     ]
    }
   ],
   "source": [
    "# 3) 2-mode mixed logit (just r)\n",
    "m = logit.MixedLogitModel('flickr', D=D, vvv=2)\n",
    "m.add_uniform_model()\n",
    "m.add_uniform_fof_model()\n",
    "T = m.fit(etol=0.01, n_rounds=200, return_stats=True)\n",
    "print(\"LL = \", m.ll())"
   ]
  },
  {
   "cell_type": "code",
   "execution_count": 104,
   "metadata": {
    "collapsed": false
   },
   "outputs": [
    {
     "name": "stdout",
     "output_type": "stream",
     "text": [
      "[flickr] [  0/200] (u) pi_1=0.080 u_1=1.00 (ld) pi_2=0.242 u_2=1.37 (uf) pi_3=0.335 u_3=1.00 (ldf) pi_4=0.344 u_4=1.06 (*) tot_ll=26993.7819\n",
      "[flickr] [ 10/200] (u) pi_1=0.026 u_1=1.00 (ld) pi_2=0.095 u_2=1.22 (uf) pi_3=0.426 u_3=1.00 (ldf) pi_4=0.452 u_4=1.10 (*) tot_ll=25817.3074\n",
      "[flickr] [ 30/200] (u) pi_1=0.027 u_1=1.00 (ld) pi_2=0.068 u_2=1.12 (uf) pi_3=0.409 u_3=1.00 (ldf) pi_4=0.496 u_4=1.11 (*) tot_ll=25786.3987\n",
      "[flickr] [ 40/200] (u) pi_1=0.027 u_1=1.00 (ld) pi_2=0.067 u_2=1.12 (uf) pi_3=0.406 u_3=1.00 (ldf) pi_4=0.500 u_4=1.10 (*) tot_ll=25786.1567\n",
      "[flickr] delta in ll (0.008) < etol (0.010), stopping\n",
      "[flickr] u's  = [(u:1.000), (ld:1.118), (uf:1.000), (ldf:1.100)]\n",
      "[flickr] pi's = [(u:0.027), (ld:0.067), (uf:0.406), (ldf:0.500)]\n"
     ]
    }
   ],
   "source": [
    "# 4) 4-mode mixed logit (p vs r)\n",
    "m = logit.MixedLogitModel('flickr', D=D, vvv=2)\n",
    "m.add_uniform_model()\n",
    "m.add_log_degree_model()\n",
    "m.add_uniform_fof_model()\n",
    "m.add_log_degree_fof_model()\n",
    "T = m.fit(etol=0.01, n_rounds=200, return_stats=True)\n",
    "print(\"LL = \", m.ll())"
   ]
  },
  {
   "cell_type": "code",
   "execution_count": 117,
   "metadata": {
    "collapsed": false
   },
   "outputs": [
    {
     "name": "stdout",
     "output_type": "stream",
     "text": [
      "[flickr] [  0/200] (u) pi_1=0.075 u_1=1.00 (ld) pi_2=0.242 u_2=1.00 (uf) pi_3=0.337 u_3=1.00 (ldf) pi_4=0.346 u_4=1.00 (*) tot_ll=4722.4798\n",
      "[flickr] [ 10/200] (u) pi_1=0.020 u_1=1.00 (ld) pi_2=0.078 u_2=1.00 (uf) pi_3=0.409 u_3=1.00 (ldf) pi_4=0.494 u_4=1.00 (*) tot_ll=4436.3537\n",
      "[flickr] [ 20/200] (u) pi_1=0.021 u_1=1.00 (ld) pi_2=0.066 u_2=1.00 (uf) pi_3=0.390 u_3=1.00 (ldf) pi_4=0.523 u_4=1.00 (*) tot_ll=4433.7110\n",
      "[flickr] delta in ll (0.008) < etol (0.010), stopping\n",
      "[flickr] u's  = [(u:1.000), (ld:1.000), (uf:1.000), (ldf:1.000)]\n",
      "[flickr] pi's = [(u:0.021), (ld:0.064), (uf:0.385), (ldf:0.529)]\n",
      "LL =  4433.595893695425\n"
     ]
    }
   ],
   "source": [
    "# 5) clamped 4-mode mixed logit (p vs r)\n",
    "m = logit.MixedLogitModel('flickr', D=D, vvv=2)\n",
    "m.add_uniform_model()\n",
    "m.add_log_degree_model(bounds=((1, 1),))\n",
    "m.add_uniform_fof_model()\n",
    "m.add_log_degree_fof_model(bounds=((1, 1),))\n",
    "T = m.fit(etol=0.01, n_rounds=200, return_stats=True)\n",
    "print(\"LL = \", m.ll())"
   ]
  },
  {
   "cell_type": "code",
   "execution_count": 118,
   "metadata": {
    "collapsed": false
   },
   "outputs": [
   ],
   "source": [
    "# 6) 2*2 mixed logit (p vs r)\n",
    "step = 0.025\n",
    "ps = np.arange(1.0, -step, -step)\n",
    "rs = np.arange(0.0, 1.0 + step, step)\n",
    "X, Y = np.meshgrid(ps, rs)\n",
    "Z = np.sqrt(X**2 + Y**2)  # to initialize the meshgrid\n",
    "m = logit.MixedLogitModel('flickr', D=D, vvv=0)\n",
    "m.add_uniform_model()\n",
    "m.add_log_degree_model(bounds=((1, 1),))  # clamped at alpha=1 (full PA)\n",
    "m.add_uniform_fof_model()\n",
    "m.add_log_degree_fof_model(bounds=((1, 1),)) # clamped at alpha=1 (full PA)\n",
    "for i in range(len(ps)):\n",
    "    for j in range(len(rs)):\n",
    "        p = ps[i]\n",
    "        r = rs[j]\n",
    "        m.pk = {0: (1-p)*r, 1: p*r, 2: (1-p)*(1-r), 3: p*(1-r)}\n",
    "        Z[i, j] = m.ll()"
   ]
  },
  {
   "cell_type": "code",
   "execution_count": 119,
   "metadata": {
    "collapsed": false,
    "scrolled": true
   },
   "outputs": [
    {
     "name": "stdout",
     "output_type": "stream",
     "text": [
      "min is ll=4439.32 at r=0.08 p=0.62\n",
      "max is ll=16094.38 at r=1.00 p=-0.00\n"
     ]
    },
    {
     "data": {
      "image/png": "[encoded data removed]",
      "text/plain": [
       "<Figure size 432x288 with 1 Axes>"
      ]
     },
     "metadata": {},
     "output_type": "display_data"
    }
   ],
   "source": [
    "f, ax = plt.subplots()\n",
    "make_heatmap(ax, Z, title=\"Flickr\", step=step)\n",
    "\n",
    "i, j = np.unravel_index(np.nanargmin(Z), Z.shape)\n",
    "print('min is ll=%.2f at r=%.2f p=%.2f' % (Z[i, j], rs[j], ps[i]))\n",
    "i, j = np.unravel_index(np.nanargmax(Z), Z.shape)\n",
    "print('max is ll=%.2f at r=%.2f p=%.2f' % (Z[i, j], rs[j], ps[i]))"
   ]
  },
  {
   "cell_type": "code",
   "execution_count": null,
   "metadata": {
    "collapsed": false
   },
   "outputs": [],
   "source": [
    "print('  p  r ' + ' '.join([\" %.2f\" % rs[j] for j in range(11)]))\n",
    "for i in range(11):\n",
    "    print(\" %.2f  \" % ps[i] + ' '.join([\"%d\" % Z[i,j] for j in range(11)]))"
   ]
  },
  {
   "cell_type": "code",
   "execution_count": null,
   "metadata": {
    "collapsed": true
   },
   "outputs": [],
   "source": []
  }
 ],
 "metadata": {
  "anaconda-cloud": {},
  "kernelspec": {
   "display_name": "Python [conda env:py36]",
   "language": "python",
   "name": "conda-env-py36-py"
  },
  "language_info": {
   "codemirror_mode": {
    "name": "ipython",
    "version": 3
   },
   "file_extension": ".py",
   "mimetype": "text/x-python",
   "name": "python",
   "nbconvert_exporter": "python",
   "pygments_lexer": "ipython3",
   "version": "3.6.5"
  }
 },
 "nbformat": 4,
 "nbformat_minor": 2
}
