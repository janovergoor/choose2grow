{
 "cells": [
  {
   "cell_type": "code",
   "execution_count": 96,
   "metadata": {
    "collapsed": false
   },
   "outputs": [],
   "source": [
    "import sys\n",
    "sys.path.append('../src')\n",
    "import util\n",
    "import logit\n",
    "import numpy as np\n",
    "import matplotlib.pyplot as plt\n",
    "from matplotlib import cm\n",
    "from mpl_toolkits.mplot3d import axes3d, Axes3D\n",
    "from matplotlib import gridspec\n",
    "%matplotlib inline"
   ]
  },
  {
   "cell_type": "code",
   "execution_count": 97,
   "metadata": {
    "collapsed": true
   },
   "outputs": [],
   "source": [
    "def make_heatmap(ax, Z, title=\"Log-likelihood\", step=0.025):\n",
    "    ps = np.arange(1.0, -step, -step)\n",
    "    rs = np.arange(0.0, 1.0 + step, step)\n",
    "    X, Y = np.meshgrid(ps, rs)\n",
    "    i, j = np.unravel_index(np.nanargmin(Z), Z.shape)  # get empirical minimum\n",
    "    # make the plot\n",
    "    ax.imshow(Z, cmap=cm.coolwarm)\n",
    "    ax.set_xticks(np.arange(0, (1.0/step) + 0.05, (1.0/step)/4))\n",
    "    ax.set_xticklabels(np.arange(0.0, 1.05, 0.25))\n",
    "    ax.set_yticks(np.arange(0,  (1.0/step) + 0.05, (1.00/step)/4))\n",
    "    ax.set_yticklabels(np.arange(1, -.01, -0.25))\n",
    "    ax.set_xlabel(r'$r$')\n",
    "    ax.set_ylabel(r'$p$')\n",
    "    ax.plot(j, i, 'o', color='black')  # empirical max\n",
    "    ax.set_title(title)"
   ]
  },
  {
   "cell_type": "code",
   "execution_count": 99,
   "metadata": {
    "collapsed": false
   },
   "outputs": [],
   "source": [
    "# read data\n",
    "from env import data_path\n",
    "fn = \"%s/%s\" % (data_path, 'flickr-growth_choices_061105.csv')\n",
    "D = util.read_data_single(fn, max_deg=None)\n",
    "D['fof'] = np.where(D.hops == 2, 1, 0)"
   ]
  },
  {
   "cell_type": "code",
   "execution_count": 100,
   "metadata": {
    "collapsed": false
   },
   "outputs": [
    {
     "name": "stdout",
     "output_type": "stream",
     "text": [
      "[flickr] fitting with BFGS\n",
      "[flickr] parameters after fitting: [1.]\n",
      "LL =  55689.45426927162\n"
     ]
    }
   ],
   "source": [
    "# 1) single log-degree\n",
    "m = logit.LogDegreeModel('flickr', D=D, vvv=2)\n",
    "m.fit()\n",
    "print(\"LL = \", m.ll())"
   ]
  },
  {
   "cell_type": "code",
   "execution_count": 101,
   "metadata": {
    "collapsed": false
   },
   "outputs": [
    {
     "name": "stdout",
     "output_type": "stream",
     "text": [
      "[flickr] [  0/200] (u) pi_1=0.213 u_1=1.00 (ld) pi_2=0.787 u_2=1.36 (*) tot_ll=41497.7780\n",
      "[flickr] [ 10/200] (u) pi_1=0.097 u_1=1.00 (ld) pi_2=0.903 u_2=1.20 (*) tot_ll=40663.4829\n",
      "[flickr] delta in ll (0.007) < etol (0.010), stopping\n",
      "[flickr] u's  = [(u:1.000), (ld:1.199)]\n",
      "[flickr] pi's = [(u:0.097), (ld:0.903)]\n",
      "LL =  40663.48290751626\n"
     ]
    }
   ],
   "source": [
    "# 2a) 2-mode mixed logit (just p)\n",
    "m = logit.MixedLogitModel('flickr', D=D, vvv=2)\n",
    "m.add_uniform_model()\n",
    "m.add_log_degree_model()\n",
    "T = m.fit(etol=0.01, n_rounds=200, return_stats=True)\n",
    "print(\"LL = \", m.ll())"
   ]
  },
  {
   "cell_type": "code",
   "execution_count": 102,
   "metadata": {
    "collapsed": false
   },
   "outputs": [
    {
     "name": "stdout",
     "output_type": "stream",
     "text": [
      "[flickr] [  0/200] (u) pi_1=0.213 u_1=1.00 (ld) pi_2=0.787 u_2=1.00 (*) tot_ll=42433.8257\n",
      "[flickr] delta in ll (0.005) < etol (0.010), stopping\n",
      "[flickr] u's  = [(u:1.000), (ld:1.000)]\n",
      "[flickr] pi's = [(u:0.078), (ld:0.922)]\n",
      "LL =  41168.38357280682\n"
     ]
    }
   ],
   "source": [
    "# 2b) clamped 2-mode mixed logit (just p)\n",
    "m = logit.MixedLogitModel('flickr', D=D, vvv=2)\n",
    "m.add_uniform_model()\n",
    "m.add_log_degree_model(bounds=((1, 1),))\n",
    "T = m.fit(etol=0.01, n_rounds=200, return_stats=True)\n",
    "print(\"LL = \", m.ll())"
   ]
  },
  {
   "cell_type": "code",
   "execution_count": 103,
   "metadata": {
    "collapsed": false
   },
   "outputs": [
    {
     "name": "stdout",
     "output_type": "stream",
     "text": [
      "[flickr] [  0/200] (u) pi_1=0.161 u_1=1.00 (uf) pi_2=0.839 u_2=1.00 (*) tot_ll=31048.7588\n",
      "[flickr] delta in ll (0.009) < etol (0.010), stopping\n",
      "[flickr] u's  = [(u:1.000), (uf:1.000)]\n",
      "[flickr] pi's = [(u:0.049), (uf:0.951)]\n",
      "LL =  29698.590831820304\n"
     ]
    }
   ],
   "source": [
    "# 3) 2-mode mixed logit (just r)\n",
    "m = logit.MixedLogitModel('flickr', D=D, vvv=2)\n",
    "m.add_uniform_model()\n",
    "m.add_uniform_fof_model()\n",
    "T = m.fit(etol=0.01, n_rounds=200, return_stats=True)\n",
    "print(\"LL = \", m.ll())"
   ]
  },
  {
   "cell_type": "code",
   "execution_count": 104,
   "metadata": {
    "collapsed": false
   },
   "outputs": [
    {
     "name": "stdout",
     "output_type": "stream",
     "text": [
      "[flickr] [  0/200] (u) pi_1=0.080 u_1=1.00 (ld) pi_2=0.242 u_2=1.37 (uf) pi_3=0.335 u_3=1.00 (ldf) pi_4=0.344 u_4=1.06 (*) tot_ll=26993.7819\n",
      "[flickr] [ 10/200] (u) pi_1=0.026 u_1=1.00 (ld) pi_2=0.095 u_2=1.22 (uf) pi_3=0.426 u_3=1.00 (ldf) pi_4=0.452 u_4=1.10 (*) tot_ll=25817.3074\n",
      "[flickr] [ 30/200] (u) pi_1=0.027 u_1=1.00 (ld) pi_2=0.068 u_2=1.12 (uf) pi_3=0.409 u_3=1.00 (ldf) pi_4=0.496 u_4=1.11 (*) tot_ll=25786.3987\n",
      "[flickr] [ 40/200] (u) pi_1=0.027 u_1=1.00 (ld) pi_2=0.067 u_2=1.12 (uf) pi_3=0.406 u_3=1.00 (ldf) pi_4=0.500 u_4=1.10 (*) tot_ll=25786.1567\n",
      "[flickr] delta in ll (0.008) < etol (0.010), stopping\n",
      "[flickr] u's  = [(u:1.000), (ld:1.118), (uf:1.000), (ldf:1.100)]\n",
      "[flickr] pi's = [(u:0.027), (ld:0.067), (uf:0.406), (ldf:0.500)]\n"
     ]
    }
   ],
   "source": [
    "# 4) 4-mode mixed logit (p vs r)\n",
    "m = logit.MixedLogitModel('flickr', D=D, vvv=2)\n",
    "m.add_uniform_model()\n",
    "m.add_log_degree_model()\n",
    "m.add_uniform_fof_model()\n",
    "m.add_log_degree_fof_model()\n",
    "T = m.fit(etol=0.01, n_rounds=200, return_stats=True)\n",
    "print(\"LL = \", m.ll())"
   ]
  },
  {
   "cell_type": "code",
   "execution_count": 105,
   "metadata": {
    "collapsed": false
   },
   "outputs": [
    {
     "name": "stdout",
     "output_type": "stream",
     "text": [
      "[flickr] [  0/200] (u) pi_1=0.080 u_1=1.00 (ld) pi_2=0.242 u_2=1.00 (uf) pi_3=0.335 u_3=1.00 (ldf) pi_4=0.344 u_4=1.00 (*) tot_ll=27369.0328\n",
      "[flickr] [ 10/200] (u) pi_1=0.023 u_1=1.00 (ld) pi_2=0.080 u_2=1.00 (uf) pi_3=0.413 u_3=1.00 (ldf) pi_4=0.485 u_4=1.00 (*) tot_ll=25820.3772\n",
      "[flickr] [ 20/200] (u) pi_1=0.025 u_1=1.00 (ld) pi_2=0.066 u_2=1.00 (uf) pi_3=0.395 u_3=1.00 (ldf) pi_4=0.514 u_4=1.00 (*) tot_ll=25804.2206\n",
      "[flickr] [ 30/200] (u) pi_1=0.026 u_1=1.00 (ld) pi_2=0.064 u_2=1.00 (uf) pi_3=0.388 u_3=1.00 (ldf) pi_4=0.522 u_4=1.00 (*) tot_ll=25803.3013\n",
      "[flickr] delta in ll (0.009) < etol (0.010), stopping\n",
      "[flickr] u's  = [(u:1.000), (ld:1.000), (uf:1.000), (ldf:1.000)]\n",
      "[flickr] pi's = [(u:0.026), (ld:0.064), (uf:0.388), (ldf:0.523)]\n"
     ]
    }
   ],
   "source": [
    "# 5) clamped 4-mode mixed logit (p vs r)\n",
    "m = logit.MixedLogitModel('flickr', D=D, vvv=2)\n",
    "m.add_uniform_model()\n",
    "m.add_log_degree_model(bounds=((1, 1),))\n",
    "m.add_uniform_fof_model()\n",
    "m.add_log_degree_fof_model(bounds=((1, 1),))\n",
    "T = m.fit(etol=0.01, n_rounds=200, return_stats=True)\n",
    "print(\"LL = \", m.ll())"
   ]
  },
  {
   "cell_type": "code",
   "execution_count": 86,
   "metadata": {
    "collapsed": false
   },
   "outputs": [
   ],
   "source": [
    "# 6) 2*2 mixed logit (p vs r)\n",
    "step = 0.025\n",
    "ps = np.arange(1.0, -step, -step)\n",
    "rs = np.arange(0.0, 1.0 + step, step)\n",
    "X, Y = np.meshgrid(ps, rs)\n",
    "Z = np.sqrt(X**2 + Y**2)  # to initialize the meshgrid\n",
    "m = logit.MixedLogitModel('flickr', D=D, vvv=0)\n",
    "m.add_uniform_model()\n",
    "m.add_log_degree_model(bounds=((1, 1),))  # clamped at alpha=1 (full PA)\n",
    "m.add_uniform_fof_model()\n",
    "m.add_log_degree_fof_model(bounds=((1, 1),)) # clamped at alpha=1 (full PA)\n",
    "for i in range(len(ps)):\n",
    "    for j in range(len(rs)):\n",
    "        p = ps[i]\n",
    "        r = rs[j]\n",
    "        m.pk = {0: (1-p)*r, 1: p*r, 2: (1-p)*(1-r), 3: p*(1-r)}\n",
    "        Z[i, j] = m.ll()"
   ]
  },
  {
   "cell_type": "code",
   "execution_count": 87,
   "metadata": {
    "collapsed": false,
    "scrolled": true
   },
   "outputs": [
    {
     "name": "stdout",
     "output_type": "stream",
     "text": [
      "min is ll=17274.03 at r=0.05 p=0.62\n",
      "max is ll=66685.45 at r=1.00 p=-0.00\n"
     ]
    },
    {
     "data": {
      "image/png": "[encoded data removed]",
      "text/plain": [
       "<Figure size 432x288 with 1 Axes>"
      ]
     },
     "metadata": {},
     "output_type": "display_data"
    }
   ],
   "source": [
    "f, ax = plt.subplots()\n",
    "make_heatmap(ax, Z, title=\"Flickr\", step=step)\n",
    "\n",
    "i, j = np.unravel_index(np.nanargmin(Z), Z.shape)\n",
    "print('min is ll=%.2f at r=%.2f p=%.2f' % (Z[i, j], rs[j], ps[i]))\n",
    "i, j = np.unravel_index(np.nanargmax(Z), Z.shape)\n",
    "print('max is ll=%.2f at r=%.2f p=%.2f' % (Z[i, j], rs[j], ps[i]))"
   ]
  },
  {
   "cell_type": "code",
   "execution_count": 85,
   "metadata": {
    "collapsed": false
   },
   "outputs": [
    {
     "name": "stdout",
     "output_type": "stream",
     "text": [
      "  p  r  0.00  0.10  0.20  0.30  0.40  0.50  0.60  0.70  0.80  0.90  1.00\n",
      " 1.00  35060 29540 29859 30359 30970 31683 32507 33472 34640 36172 39169\n",
      " 0.90  24723 18137 18498 19078 19792 20624 21585 22706 24054 25795 28905\n",
      " 0.80  24146 17565 18030 18724 19561 20529 21640 22930 24470 26439 29755\n",
      " 0.70  23915 17378 17948 18756 19720 20828 22098 23569 25322 27548 31141\n",
      " 0.60  23862 17391 18067 18994 20090 21349 22791 24464 26458 28982 32939\n",
      " 0.50  23937 17546 18333 19383 20621 22043 23676 25577 27852 30737 35172\n",
      " 0.40  24123 17826 18727 19909 21300 22901 24750 26915 29525 32860 37942\n",
      " 0.30  24422 18233 19256 20579 22136 23939 26034 28512 31536 35453 41457\n",
      " 0.20  24858 18793 19945 21422 23165 25196 27581 30441 33995 38714 46146\n",
      " 0.10  25496 19579 20871 22518 24471 26768 29505 32850 37125 43048 53073\n",
      " 0.00  26593 20865 22313 24154 26352 28974 32159 36165 41520 49582 66685\n"
     ]
    }
   ],
   "source": [
    "print('  p  r ' + ' '.join([\" %.2f\" % rs[j] for j in range(11)]))\n",
    "for i in range(11):\n",
    "    print(\" %.2f  \" % ps[i] + ' '.join([\"%d\" % Z[i,j] for j in range(11)]))"
   ]
  },
  {
   "cell_type": "code",
   "execution_count": null,
   "metadata": {
    "collapsed": true
   },
   "outputs": [],
   "source": []
  }
 ],
 "metadata": {
  "anaconda-cloud": {},
  "kernelspec": {
   "display_name": "Python [conda env:py36]",
   "language": "python",
   "name": "conda-env-py36-py"
  },
  "language_info": {
   "codemirror_mode": {
    "name": "ipython",
    "version": 3
   },
   "file_extension": ".py",
   "mimetype": "text/x-python",
   "name": "python",
   "nbconvert_exporter": "python",
   "pygments_lexer": "ipython3",
   "version": "3.6.5"
  }
 },
 "nbformat": 4,
 "nbformat_minor": 2
}
