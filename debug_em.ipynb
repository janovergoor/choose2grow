{
 "cells": [
  {
   "cell_type": "code",
   "execution_count": 90,
   "metadata": {
    "collapsed": false
   },
   "outputs": [],
   "source": [
    "from src import *\n",
    "import numpy as np\n",
    "import matplotlib.pyplot as plt\n",
    "%matplotlib inline"
   ]
  },
  {
   "cell_type": "markdown",
   "metadata": {},
   "source": [
    "Snippet to fit a model on a graph generated on the fly.\n",
    "\n",
    "First, we generate a graph and the accompanying choice sets. In this case, we set $p=0.25$."
   ]
  },
  {
   "cell_type": "code",
   "execution_count": null,
   "metadata": {
    "collapsed": false
   },
   "outputs": [
    {
     "name": "stdout",
     "output_type": "stream",
     "text": [
      "[test] generated a growing graph with 5004 nodes and 20001 edges (r=1.00, p=0.25)\n"
     ]
    }
   ],
   "source": [
    "# generate a growing graph\n",
    "(G, el) = network_generation.generate_mixed_model('test', n_max=20000, r=1.00, p=0.25, grow=True, m=4, vvv=1)\n",
    "# compute choice sets\n",
    "D = network_stats.choice_data('test', el, vvv=1)"
   ]
  },
  {
   "cell_type": "markdown",
   "metadata": {},
   "source": [
    "Then, we try fitting a few different models."
   ]
  },
  {
   "cell_type": "markdown",
   "metadata": {},
   "source": [
    "## 1) Log Logit"
   ]
  },
  {
   "cell_type": "code",
   "execution_count": null,
   "metadata": {
    "collapsed": false
   },
   "outputs": [],
   "source": [
    "# fit single log model\n",
    "m1 = logit_individual.LogLogitModel('test', D=D, vvv=2)\n",
    "m1.fit()"
   ]
  },
  {
   "cell_type": "code",
   "execution_count": null,
   "metadata": {
    "collapsed": false
   },
   "outputs": [],
   "source": [
    "plt.figure()\n",
    "xs = np.arange(50)\n",
    "plt.fill_between(xs, xs * (m1.u - 1.96*m1.se), xs * (m1.u + 1.96*m1.se), color='lightgrey')\n",
    "plt.plot(xs, xs * m1.u, '-b')\n",
    "plt.xlabel(r\"$k$\")\n",
    "plt.ylabel(r\"$u_k$\")"
   ]
  },
  {
   "cell_type": "markdown",
   "metadata": {},
   "source": [
    "## 2) Degree Logit"
   ]
  },
  {
   "cell_type": "code",
   "execution_count": null,
   "metadata": {
    "collapsed": false
   },
   "outputs": [],
   "source": [
    "# fit degree logit model\n",
    "m2 = logit_individual.DegreeLogitModel('test', D=D, vvv=2)\n",
    "m2.fit()"
   ]
  },
  {
   "cell_type": "code",
   "execution_count": null,
   "metadata": {
    "collapsed": false
   },
   "outputs": [],
   "source": [
    "plt.figure()\n",
    "xs = np.arange(51)\n",
    "plt.fill_between(xs, np.exp(m2.u - 1.96*m2.se), np.exp(m2.u + 1.96*m2.se), color='lightgrey')\n",
    "plt.plot(xs, np.exp(m2.u), '-b')\n",
    "plt.xlabel(r\"$k$\")\n",
    "plt.ylabel(r\"$u_k$\")\n",
    "axes = plt.gca()\n",
    "axes.set_ylim([0, 10])"
   ]
  },
  {
   "cell_type": "markdown",
   "metadata": {},
   "source": [
    "## 3) Mixed Logit"
   ]
  },
  {
   "cell_type": "code",
   "execution_count": null,
   "metadata": {
    "collapsed": false
   },
   "outputs": [],
   "source": [
    "# fit mixed logit model\n",
    "m3 = logit.MixedLogitModel('test', grouped=False, D=D, vvv=vvv)\n",
    "m3.add_log_model()  # 'unclamped'\n",
    "#m.add_log_model(bounds=((1, 1)),)  # 'clamped at alpha=1'\n",
    "m3.add_poly_model(k=1, bounds=((1, 1),))  # uniform\n",
    "T = m3.fit(etol=0.05, n_rounds=50, return_stats=True)"
   ]
  },
  {
   "cell_type": "code",
   "execution_count": null,
   "metadata": {
    "collapsed": false,
    "scrolled": true
   },
   "outputs": [],
   "source": [
    "plt.figure(figsize=(9,3))\n",
    "\n",
    "plt.subplot(131)\n",
    "T.tot_ll.plot()\n",
    "plt.title('Total log likelihood')\n",
    "\n",
    "plt.subplot(132)\n",
    "T.p1.plot()\n",
    "plt.title(r'Class probability $\\pi$')\n",
    "\n",
    "plt.subplot(133)\n",
    "T.u1.plot()\n",
    "plt.title(r'Estimate of $\\alpha$')\n",
    "\n",
    "plt.tight_layout()"
   ]
  },
  {
   "cell_type": "code",
   "execution_count": null,
   "metadata": {
    "collapsed": true
   },
   "outputs": [],
   "source": []
  }
 ],
 "metadata": {
  "anaconda-cloud": {},
  "kernelspec": {
   "display_name": "Python [conda root]",
   "language": "python",
   "name": "conda-root-py"
  },
  "language_info": {
   "codemirror_mode": {
    "name": "ipython",
    "version": 2
   },
   "file_extension": ".py",
   "mimetype": "text/x-python",
   "name": "python",
   "nbconvert_exporter": "python",
   "pygments_lexer": "ipython2",
   "version": "2.7.13"
  }
 },
 "nbformat": 4,
 "nbformat_minor": 2
}
